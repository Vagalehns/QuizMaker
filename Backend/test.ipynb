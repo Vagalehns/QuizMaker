{
 "cells": [
  {
   "cell_type": "code",
   "execution_count": null,
   "id": "f1c866c9",
   "metadata": {},
   "outputs": [],
   "source": [
    "from Game import GameDB\n",
    "\n",
    "DB=GameDB(\"./test2.sqlite\")"
   ]
  },
  {
   "cell_type": "code",
   "execution_count": 4,
   "id": "99f5cd2a",
   "metadata": {},
   "outputs": [],
   "source": [
    "DB.__del__()"
   ]
  }
 ],
 "metadata": {
  "kernelspec": {
   "display_name": "FlaskQuiz",
   "language": "python",
   "name": "python3"
  },
  "language_info": {
   "codemirror_mode": {
    "name": "ipython",
    "version": 3
   },
   "file_extension": ".py",
   "mimetype": "text/x-python",
   "name": "python",
   "nbconvert_exporter": "python",
   "pygments_lexer": "ipython3",
   "version": "3.13.5"
  }
 },
 "nbformat": 4,
 "nbformat_minor": 5
}
